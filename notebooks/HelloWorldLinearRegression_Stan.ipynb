{
 "cells": [
  {
   "cell_type": "markdown",
   "metadata": {},
   "source": [
    "# Hello world for linear regression in PyStan\n",
    "\n",
    "This is meant to be a first notebook for exploring how to use PyStan to do:\n",
    "\n",
    "* MAP estimation\n",
    "* MCMC sampling using the No-U-Turn (NUTS) extension of Hamlitonian Monte Carlo\n",
    "\n",
    "Meant to allow side-by-side comparison with alternative probabilistic programming packages like PyMC3.\n",
    "\n",
    "Inspired by:\n",
    "\n",
    "* Bob Carpenter's blog post:\n",
    "\n",
    "https://statmodeling.stat.columbia.edu/2017/05/31/compare-stan-pymc3-edward-hello-world/\n",
    "\n",
    "* The \"hello world\" example in the PyMC3 journal article:\n",
    "\n",
    "Salvatier, Wiecki, and Fonnesbeck. \"Probabilistic programming in Python using PyMC3\". \n",
    "https://peerj.com/articles/cs-55.pdf"
   ]
  },
  {
   "cell_type": "code",
   "execution_count": 1,
   "metadata": {},
   "outputs": [],
   "source": [
    "import numpy as np\n",
    "import pandas as pd"
   ]
  },
  {
   "cell_type": "code",
   "execution_count": 2,
   "metadata": {},
   "outputs": [],
   "source": [
    "import matplotlib.pyplot as plt\n",
    "import seaborn as sns\n",
    "\n",
    "sns.set_style('whitegrid');\n",
    "sns.set_context(\"notebook\", font_scale=1.5, rc={\"lines.linewidth\": 2.0})\n",
    "\n",
    "%matplotlib inline"
   ]
  },
  {
   "cell_type": "markdown",
   "metadata": {},
   "source": [
    "# Import PyStan\n",
    "\n",
    "If you need to install it first, using the `spr_2020s_env` conda environment just do:\n",
    "\n",
    "```console\n",
    "$ conda activate spr_2020s_env\n",
    "$ conda install -c conda-forge pystan\n",
    "```"
   ]
  },
  {
   "cell_type": "code",
   "execution_count": 3,
   "metadata": {},
   "outputs": [],
   "source": [
    "import pystan"
   ]
  },
  {
   "cell_type": "markdown",
   "metadata": {},
   "source": [
    "# Model as MATH"
   ]
  },
  {
   "cell_type": "markdown",
   "metadata": {},
   "source": [
    "Likelihood:\n",
    "\\begin{align}\n",
    " p(y_{1:N} | x_{1:N}, \\alpha, \\beta, \\sigma) &= \\text{NormalPDF}(\\alpha + \\beta_1 x_{n1} + \\beta_2 x_{n2}, \\sigma^2)\n",
    "\\end{align}\n",
    "\n",
    "Priors on the variance of the likelihood:\n",
    "\\begin{align}\n",
    " p(\\sigma) &= \\text{HalfNormalPDF}(\\sigma | 0, 1) = \n",
    " \\begin{cases}\n",
    "     2 \\cdot \\text{NormalPDF}(\\sigma | 0, 1) & \\sigma > 0\n",
    "\\\\\n",
    "     0.0  & \\sigma \\leq 0\n",
    " \\end{cases}\n",
    "\\end{align}\n",
    "\n",
    "\n",
    "Priors on regression coefficients:\n",
    "\\begin{align}\n",
    " p(\\alpha) &= \\text{NormalPDF}(0, 10)\n",
    "\\\\\n",
    " p(\\beta_1) &= \\text{NormalPDF}(0, 10)\n",
    "\\\\\n",
    " p(\\beta_2) &= \\text{NormalPDF}(0, 10)\n",
    "\\\\    \n",
    "\\end{align}"
   ]
  },
  {
   "cell_type": "markdown",
   "metadata": {},
   "source": [
    "# Simulate data from the model"
   ]
  },
  {
   "cell_type": "code",
   "execution_count": 4,
   "metadata": {},
   "outputs": [],
   "source": [
    "# Initialize random number generator\n",
    "np.random.seed(123)\n",
    "\n",
    "# True regression coefficients\n",
    "alpha = 1.0\n",
    "beta = np.asarray([1.0, 1.337])\n",
    "\n",
    "# True regression std dev\n",
    "sigma = 0.3\n",
    "\n",
    "# Size of dataset\n",
    "N = 100\n",
    "\n",
    "# Data Features (input variable)\n",
    "x1_N = np.random.randn(N)\n",
    "x2_N = np.random.randn(N)\n",
    "x_N2 = np.hstack([x1_N[:,np.newaxis], x2_N[:,np.newaxis]])\n",
    "\n",
    "# Simulate outcome variable\n",
    "y_N = alpha + beta[0]*x1_N + beta[1]*x2_N + np.random.randn(N) * sigma\n",
    "\n",
    "true_params = dict(\n",
    "    alpha=alpha,\n",
    "    beta=beta,\n",
    "    sigma=sigma)"
   ]
  },
  {
   "cell_type": "markdown",
   "metadata": {},
   "source": [
    "# Plot of observed data"
   ]
  },
  {
   "cell_type": "code",
   "execution_count": 5,
   "metadata": {},
   "outputs": [
    {
     "data": {
      "image/png": "[encoded data removed]",
      "text/plain": [
       "<Figure size 576x216 with 2 Axes>"
      ]
     },
     "metadata": {
      "needs_background": "light"
     },
     "output_type": "display_data"
    }
   ],
   "source": [
    "_, axgrid = plt.subplots(nrows=1, ncols=2, figsize=(8,3), sharex=True, sharey=True);\n",
    "\n",
    "axgrid[0].plot(x1_N, y_N, 'k.'); axgrid[0].set_xlabel('x1'); axgrid[0].set_ylabel('y');\n",
    "axgrid[1].plot(x2_N, y_N, 'b.'); axgrid[1].set_xlabel('x2'); axgrid[1].set_ylabel('y');"
   ]
  },
  {
   "cell_type": "markdown",
   "metadata": {},
   "source": [
    "# Model specified in Stan"
   ]
  },
  {
   "cell_type": "code",
   "execution_count": 6,
   "metadata": {},
   "outputs": [],
   "source": [
    "model_code = '''\n",
    "data {\n",
    "  int N;\n",
    "  vector[N] y;\n",
    "  matrix[N, 2] x;\n",
    "}\n",
    "parameters {\n",
    "  real alpha;\n",
    "  vector[2] beta;\n",
    "  real<lower=0> sigma; // constrain sigma > 0\n",
    "}\n",
    "model {\n",
    "  alpha ~ normal(0, 10);\n",
    "  beta ~ normal(0, 10);  // implicitly applied to each dim of vector beta\n",
    "  sigma ~ normal(0, 1);  // implicitly takes into account the constraint: sigma > 0\n",
    "  \n",
    "  y ~ normal(alpha + x * beta, sigma);\n",
    "}\n",
    "'''"
   ]
  },
  {
   "cell_type": "code",
   "execution_count": 7,
   "metadata": {},
   "outputs": [],
   "source": [
    "# Create dictionary to specify concrete values\n",
    "# for each parameter named in 'data' section of model\n",
    "\n",
    "data_N10 = dict(N=10, y=y_N[:10], x=x_N2[:10])"
   ]
  },
  {
   "cell_type": "code",
   "execution_count": 8,
   "metadata": {},
   "outputs": [],
   "source": [
    "data_N100 = dict(N=100, y=y_N[:100], x=x_N2[:100])"
   ]
  },
  {
   "cell_type": "markdown",
   "metadata": {},
   "source": [
    "# Setup: Compile the model"
   ]
  },
  {
   "cell_type": "code",
   "execution_count": 9,
   "metadata": {},
   "outputs": [
    {
     "name": "stderr",
     "output_type": "stream",
     "text": [
      "INFO:pystan:COMPILING THE C++ CODE FOR MODEL anon_model_9f0db3f7b821fb462af2f1e2557f82cf NOW.\n"
     ]
    }
   ],
   "source": [
    "# Compile the model\n",
    "stan_model = pystan.StanModel(model_code=model_code)"
   ]
  },
  {
   "cell_type": "markdown",
   "metadata": {},
   "source": [
    "# Setup: Prepare for plotting results"
   ]
  },
  {
   "cell_type": "code",
   "execution_count": 10,
   "metadata": {},
   "outputs": [],
   "source": [
    "def plot_traces(fit):\n",
    "    fig, ax_grid = plt.subplots(nrows=2, ncols=2, sharex=True, sharey=True);\n",
    "    for ax, var_name, dim in zip(\n",
    "            ax_grid.flatten(), ['alpha', 'sigma', 'beta', 'beta'], [None, None, 0, 1]):\n",
    "        var_samples_S = fit[var_name]\n",
    "        true_val = true_params[var_name]\n",
    "\n",
    "        if dim is not None:\n",
    "            var_samples_S = var_samples_S[:, dim]\n",
    "            true_val = true_val[dim]\n",
    "            var_name = var_name + \"[%d]\" % dim\n",
    "\n",
    "        S = var_samples_S.size\n",
    "        ax.plot(var_samples_S, 'b.', markersize=4, alpha=0.3, label='samples')\n",
    "        ax.plot(true_val * np.ones(S), 'r-', label='true_value')\n",
    "        ax.set_ylabel(var_name)\n",
    "\n",
    "    ax.legend(bbox_to_anchor=(1.1, 1.0))\n",
    "    ax.set_ylim([0, 2.0]);"
   ]
  },
  {
   "cell_type": "markdown",
   "metadata": {},
   "source": [
    "# Run MAP estimator for N=10 dataset"
   ]
  },
  {
   "cell_type": "code",
   "execution_count": 11,
   "metadata": {},
   "outputs": [],
   "source": [
    "map_N10 = stan_model.optimizing(\n",
    "    data=data_N10,\n",
    "    algorithm='LBFGS',\n",
    "    init='0',\n",
    "    verbose=True,\n",
    "    iter=1000, seed=101)"
   ]
  },
  {
   "cell_type": "code",
   "execution_count": 12,
   "metadata": {},
   "outputs": [
    {
     "name": "stdout",
     "output_type": "stream",
     "text": [
      "alpha 1.0693495791082472\n",
      "beta [1.00373535 1.44519637]\n",
      "sigma 0.2004478445079128\n"
     ]
    }
   ],
   "source": [
    "for key, arr in map_N10.items():\n",
    "    print(key, arr)"
   ]
  },
  {
   "cell_type": "code",
   "execution_count": 13,
   "metadata": {},
   "outputs": [
    {
     "name": "stdout",
     "output_type": "stream",
     "text": [
      "alpha 1.0\n",
      "beta [1.    1.337]\n",
      "sigma 0.3\n"
     ]
    }
   ],
   "source": [
    "for key, arr in true_params.items():\n",
    "    print(key, arr)"
   ]
  },
  {
   "cell_type": "markdown",
   "metadata": {},
   "source": [
    "# Run MAP estimator for N=100 dataset"
   ]
  },
  {
   "cell_type": "code",
   "execution_count": 14,
   "metadata": {},
   "outputs": [],
   "source": [
    "map_N100 = stan_model.optimizing(\n",
    "    data=data_N100,\n",
    "    algorithm='LBFGS',\n",
    "    init='0',\n",
    "    verbose=True,\n",
    "    iter=1000, seed=101)"
   ]
  },
  {
   "cell_type": "code",
   "execution_count": 15,
   "metadata": {},
   "outputs": [
    {
     "name": "stdout",
     "output_type": "stream",
     "text": [
      "alpha 1.0693495791082472\n",
      "beta [1.00373535 1.44519637]\n",
      "sigma 0.2004478445079128\n"
     ]
    }
   ],
   "source": [
    "for key, arr in map_N10.items():\n",
    "    print(key, arr)"
   ]
  },
  {
   "cell_type": "markdown",
   "metadata": {},
   "source": [
    "# Run MCMC sampler for N=10 dataset"
   ]
  },
  {
   "cell_type": "code",
   "execution_count": 16,
   "metadata": {},
   "outputs": [],
   "source": [
    "fit_N10 = stan_model.sampling(\n",
    "    data=data_N10,\n",
    "    algorithm='NUTS',\n",
    "    init='0',\n",
    "    verbose=True,\n",
    "    iter=1000, chains=1, warmup=500, thin=1, seed=101)"
   ]
  },
  {
   "cell_type": "code",
   "execution_count": 17,
   "metadata": {},
   "outputs": [
    {
     "data": {
      "image/png": "[encoded data removed]",
      "text/plain": [
       "<Figure size 432x288 with 4 Axes>"
      ]
     },
     "metadata": {
      "needs_background": "light"
     },
     "output_type": "display_data"
    }
   ],
   "source": [
    "plot_traces(fit_N10)"
   ]
  },
  {
   "cell_type": "markdown",
   "metadata": {},
   "source": [
    "# Run MCMC sampler for N=100 dataset"
   ]
  },
  {
   "cell_type": "code",
   "execution_count": 18,
   "metadata": {},
   "outputs": [],
   "source": [
    "fit_N100 = stan_model.sampling(\n",
    "    data=data_N100,\n",
    "    algorithm='NUTS',\n",
    "    init='0',\n",
    "    verbose=True,\n",
    "    iter=1000, chains=1, warmup=500, thin=1, seed=101)"
   ]
  },
  {
   "cell_type": "code",
   "execution_count": 19,
   "metadata": {},
   "outputs": [
    {
     "data": {
      "image/png": "[encoded data removed]",
      "text/plain": [
       "<Figure size 432x288 with 4 Axes>"
      ]
     },
     "metadata": {
      "needs_background": "light"
     },
     "output_type": "display_data"
    }
   ],
   "source": [
    "plot_traces(fit_N100)"
   ]
  },
  {
   "cell_type": "code",
   "execution_count": null,
   "metadata": {},
   "outputs": [],
   "source": []
  }
 ],
 "metadata": {
  "kernelspec": {
   "display_name": "Python 3",
   "language": "python",
   "name": "python3"
  },
  "language_info": {
   "codemirror_mode": {
    "name": "ipython",
    "version": 3
   },
   "file_extension": ".py",
   "mimetype": "text/x-python",
   "name": "python",
   "nbconvert_exporter": "python",
   "pygments_lexer": "ipython3",
   "version": "3.7.6"
  }
 },
 "nbformat": 4,
 "nbformat_minor": 2
}
